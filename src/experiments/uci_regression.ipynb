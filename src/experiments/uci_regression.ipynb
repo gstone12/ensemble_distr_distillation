{
 "cells": [
  {
   "cell_type": "code",
   "execution_count": 4,
   "metadata": {},
   "outputs": [
    {
     "name": "stdout",
     "output_type": "stream",
     "text": [
      "The autoreload extension is already loaded. To reload it, use:\n",
      "  %reload_ext autoreload\n"
     ]
    }
   ],
   "source": [
    "%load_ext autoreload\n",
    "%autoreload 2\n",
    "from copy import deepcopy\n",
    "import os\n",
    "os.chdir(\"/home/jakob/doktor/projects/EnsembleUncertainty/code\")\n",
    "\"\"\"Learing \"logit\" distribution in regression example\"\"\"\n",
    "from pathlib import Path\n",
    "from datetime import datetime\n",
    "import logging\n",
    "import numpy as np\n",
    "import matplotlib.pyplot as plt\n",
    "import torch\n",
    "\n",
    "import src.dataloaders.uci.wine as uci_wine\n",
    "import src.dataloaders.uci.bost as uci_bost\n",
    "import src.utils as utils\n",
    "from src.distilled import gauss_logits\n",
    "from src.ensemble import ensemble\n",
    "from src.ensemble import sep_regressor, mean_regressor, simple_regressor\n",
    "import src.metrics as metrics\n",
    "\n",
    "EXPERIMENT_NAME = \"uci_regression\""
   ]
  },
  {
   "cell_type": "code",
   "execution_count": 5,
   "metadata": {
    "scrolled": true
   },
   "outputs": [
    {
     "ename": "NameError",
     "evalue": "name 'args' is not defined",
     "output_type": "error",
     "traceback": [
      "\u001b[0;31m---------------------------------------------------------------------------\u001b[0m",
      "\u001b[0;31mNameError\u001b[0m                                 Traceback (most recent call last)",
      "\u001b[0;32m<ipython-input-5-a3ab6d9335af>\u001b[0m in \u001b[0;36m<module>\u001b[0;34m()\u001b[0m\n\u001b[1;32m      2\u001b[0m     \u001b[0mEXPERIMENT_NAME\u001b[0m\u001b[0;34m,\u001b[0m\u001b[0;34m\u001b[0m\u001b[0;34m\u001b[0m\u001b[0m\n\u001b[1;32m      3\u001b[0m     datetime.now().strftime(\"%Y%m%d_%H%M%S\")))\n\u001b[0;32m----> 4\u001b[0;31m utils.setup_logger(log_path=Path.cwd() / args.log_dir / log_file,\n\u001b[0m\u001b[1;32m      5\u001b[0m                    log_level=args.log_level)\n\u001b[1;32m      6\u001b[0m \u001b[0mLOGGER\u001b[0m\u001b[0;34m.\u001b[0m\u001b[0minfo\u001b[0m\u001b[0;34m(\u001b[0m\u001b[0;34m\"Args: {}\"\u001b[0m\u001b[0;34m.\u001b[0m\u001b[0mformat\u001b[0m\u001b[0;34m(\u001b[0m\u001b[0margs\u001b[0m\u001b[0;34m)\u001b[0m\u001b[0;34m)\u001b[0m\u001b[0;34m\u001b[0m\u001b[0;34m\u001b[0m\u001b[0m\n",
      "\u001b[0;31mNameError\u001b[0m: name 'args' is not defined"
     ]
    }
   ],
   "source": [
    "log_file = Path(\"{}_{}.log\".format(\n",
    "    EXPERIMENT_NAME,\n",
    "    datetime.now().strftime(\"%Y%m%d_%H%M%S\")))\n",
    "utils.setup_logger(log_path=Path.cwd() / args.log_dir / log_file,\n",
    "                   log_level=args.log_level)\n",
    "LOGGER.info(\"Args: {}\".format(args))\n",
    "device = utils.torch_settings(args.seed, args.gpu)\n",
    "LOGGER.info(\"Creating dataloader\")\n",
    "wine_training_data, wine_validation_data = uci_wine.WineData(\n",
    "    \"~/doktor/datasets/UCI/wine/winequality-red.csv\").create_train_val_split(\n",
    "    training_samples_ratio=0.9)\n",
    "\n",
    "bost_training_data, bost_validation_data = uci_bost.BostonData(\n",
    "    \"/home/jakob/doktor/datasets/UCI/bost/housing.data\").create_train_val_split(\n",
    "    training_samples_ratio=0.9)\n",
    "\n",
    "training_data, validation_data = wine_training_data, wine_validation_data\n",
    "#training_data, validation_data = bost_training_data, bost_validation_data\n",
    "\n",
    "\n",
    "input_size = training_data.input_dim\n",
    "layer_sizes = [input_size, 50, 2]\n",
    "ensemble_output_size = layer_sizes[-1]\n",
    "args.num_ensemble_members = 1\n",
    "args.num_epochs=40\n",
    "args.lr = 0.01\n",
    "args.log_level = logging.INFO\n",
    "train_loader = torch.utils.data.DataLoader(training_data,\n",
    "                                           batch_size=BATCH_SIZE,\n",
    "                                           shuffle=True)\n",
    "validation_loader = torch.utils.data.DataLoader(validation_data,\n",
    "                                                batch_size=BATCH_SIZE,\n",
    "                                                shuffle=True)\n",
    "\n",
    "prob_ensemble = ensemble.Ensemble(ensemble_output_size)\n",
    "for _ in range(args.num_ensemble_members):\n",
    "    model = simple_regressor.SimpleRegressor(layer_sizes,\n",
    "                                             device=device,\n",
    "                                             variance_transform=utils.variance_linear_asymptote,\n",
    "                                             learning_rate=args.lr)\n",
    "    prob_ensemble.add_member(model)\n",
    "prob_ensemble.add_metrics([rmse])\n",
    "\n",
    "prob_ensemble.train(train_loader, args.num_epochs, validation_loader=validation_loader)"
   ]
  },
  {
   "cell_type": "code",
   "execution_count": null,
   "metadata": {},
   "outputs": [],
   "source": [
    "new_lr /= 10\n",
    "dir(model.optimizer)\n",
    "model.optimizer.defaults[\"lr\"] = new_lr\n",
    "model.train(train_loader, args.num_epochs, validation_loader=validation_loader)"
   ]
  },
  {
   "cell_type": "code",
   "execution_count": null,
   "metadata": {},
   "outputs": [],
   "source": [
    "model = prob_ensemble.members[0]\n",
    "for param in model.layers[1].parameters():\n",
    "    print(param.grad)"
   ]
  },
  {
   "cell_type": "code",
   "execution_count": null,
   "metadata": {},
   "outputs": [],
   "source": [
    "log_file = Path(\"{}_{}.log\".format(\n",
    "    EXPERIMENT_NAME,\n",
    "    datetime.now().strftime(\"%Y%m%d_%H%M%S\")))\n",
    "utils.setup_logger(log_path=Path.cwd() / args.log_dir / log_file,\n",
    "                   log_level=args.log_level)\n",
    "LOGGER.info(\"Args: {}\".format(args))\n",
    "device = utils.torch_settings(args.seed, args.gpu)\n",
    "LOGGER.info(\"Creating dataloader\")\n",
    "wine_training_data, wine_validation_data = uci_wine.WineData(\n",
    "    \"~/doktor/datasets/UCI/wine/winequality-red.csv\").create_train_val_split(\n",
    "    training_samples_ratio=0.9)\n",
    "\n",
    "bost_training_data, bost_validation_data = uci_bost.BostonData(\n",
    "    \"/home/jakob/doktor/datasets/UCI/bost/housing.data\").create_train_val_split(\n",
    "    training_samples_ratio=0.9)\n",
    "\n",
    "#training_data, validation_data = wine_training_data, wine_validation_data\n",
    "training_data, validation_data = bost_training_data, bost_validation_data\n",
    "\n",
    "\n",
    "input_size = training_data.input_dim\n",
    "layer_sizes = [input_size, 50, 1]\n",
    "ensemble_output_size = layer_sizes[-1]\n",
    "args.num_ensemble_members = 1\n",
    "args.num_epochs=40\n",
    "args.lr = 0.01\n",
    "args.log_level = logging.INFO\n",
    "train_loader = torch.utils.data.DataLoader(training_data,\n",
    "                                           batch_size=BATCH_SIZE,\n",
    "                                           shuffle=True)\n",
    "validation_loader = torch.utils.data.DataLoader(validation_data,\n",
    "                                                batch_size=BATCH_SIZE,\n",
    "                                                shuffle=True)\n",
    "\n",
    "prob_ensemble = ensemble.Ensemble(ensemble_output_size)\n",
    "for _ in range(args.num_ensemble_members):\n",
    "    model = mean_regressor.MeanRegressor(layer_sizes,\n",
    "                                             device=device,\n",
    "                                             learning_rate=args.lr)\n",
    "    prob_ensemble.add_member(model)\n",
    "prob_ensemble.add_metrics([rmse])\n",
    "\n",
    "loss = model.train(train_loader, args.num_epochs, validation_loader=validation_loader)\n"
   ]
  },
  {
   "cell_type": "code",
   "execution_count": null,
   "metadata": {},
   "outputs": [],
   "source": [
    "train_loss, val_loss = np.array(loss[\"Train\"]), np.array(loss[\"Validation\"])\n",
    "epochs = np.arange(1, args.num_epochs + 1)\n",
    "\n",
    "fig, ax = plt.subplots()\n",
    "\n",
    "ax.plot(epochs, train_loss)\n",
    "ax.plot(epochs, val_loss)"
   ]
  }
 ],
 "metadata": {
  "kernelspec": {
   "display_name": "venv",
   "language": "python",
   "name": "venv"
  },
  "language_info": {
   "codemirror_mode": {
    "name": "ipython",
    "version": 3
   },
   "file_extension": ".py",
   "mimetype": "text/x-python",
   "name": "python",
   "nbconvert_exporter": "python",
   "pygments_lexer": "ipython3",
   "version": "3.6.8"
  }
 },
 "nbformat": 4,
 "nbformat_minor": 2
}
